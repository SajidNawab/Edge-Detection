{
 "cells": [
  {
   "cell_type": "code",
   "execution_count": null,
   "metadata": {},
   "outputs": [],
   "source": [
    "# you are not allowed to use these libraries for logic implementation. Use core python concepts as taught in class. You can only use math library only.\n",
    "from PIL import Image\n",
    "import numpy as np\n",
    "from IPython.display import display\n",
    "from math import sqrt"
   ]
  },
  {
   "cell_type": "code",
   "execution_count": null,
   "metadata": {},
   "outputs": [],
   "source": [
    "# Upload your own picture here\n",
    "img = Image.open(r\"image.jpg\")"
   ]
  },
  {
   "cell_type": "code",
   "execution_count": null,
   "metadata": {},
   "outputs": [],
   "source": [
    "display(img)"
   ]
  },
  {
   "cell_type": "code",
   "execution_count": null,
   "metadata": {},
   "outputs": [],
   "source": [
    "img_array = np.array(img)\n",
    "\n",
    "img_array.shape"
   ]
  },
  {
   "cell_type": "code",
   "execution_count": null,
   "metadata": {},
   "outputs": [],
   "source": [
    "\"\"\" The RGB Values of the first Pixel \"\"\"\n",
    "img_array[0][0]"
   ]
  },
  {
   "cell_type": "code",
   "execution_count": null,
   "metadata": {},
   "outputs": [],
   "source": [
    "\"\"\" You can use the height and width variables in your code to get the rows and columns of pixels in the image \"\"\"\n",
    "height = img_array.shape[0]\n",
    "width = img_array.shape[1]"
   ]
  },
  {
   "cell_type": "code",
   "execution_count": null,
   "metadata": {},
   "outputs": [],
   "source": [
    "grayscale_image = []\n",
    "# Iterating Over Rows of Pixels in the Image\n",
    "for i in range(len(img_array)):\n",
    "    temp = []  # Start with a zero at the beginning of each row\n",
    "    # Getting The Values from Each Pixel from The Row\n",
    "    for j in range(len(img_array[i])):\n",
    "        # Get the Average Value of RGB Values from the Pixel and append it to a temporary list\n",
    "        avg = int(sum(img_array[i][j])/3)\n",
    "        temp.append(avg)\n",
    "    # Append the row of average pixel values to the grayscale_image\n",
    "    grayscale_image.append(temp)\n",
    "     # Append the row of zeros for spacing"
   ]
  },
  {
   "cell_type": "code",
   "execution_count": null,
   "metadata": {},
   "outputs": [],
   "source": [
    "from PIL import Image\n",
    "gray_image_np = Image.fromarray(np.uint8(grayscale_image) , 'L')\n",
    "display(gray_image_np)"
   ]
  },
  {
   "cell_type": "code",
   "execution_count": null,
   "metadata": {},
   "outputs": [],
   "source": [
    "##Append '0' in the gray scale boundry\n",
    "grayscale_image.insert(0, [0] * len(grayscale_image[0])) # Append '0' at the start row\n",
    "grayscale_image.append([0] * len(grayscale_image[0]))    # Append '0' at the End row\n",
    "grayscale_image = [[0] + row for row in grayscale_image] # Append '0' at the start of each row\n",
    "grayscale_image = [row + [0] for row in grayscale_image] # Append '0' at the End of Each  row"
   ]
  },
  {
   "cell_type": "code",
   "execution_count": null,
   "metadata": {},
   "outputs": [],
   "source": [
    "# Print or use height and width as needed\n",
    "height = len(grayscale_image)  # Number of rows\n",
    "width = len(grayscale_image[0]) # Number of cols \n",
    "print(\"Height of the grayscale image:\", height)\n",
    "print(\"Width of the grayscale image:\", width)\n",
    "\n",
    "# Shape of the grayscale image (rows, columns)\n",
    "shape = (height, width)\n",
    "print(\"Shape of the grayscale image:\", shape)"
   ]
  },
  {
   "cell_type": "code",
   "execution_count": null,
   "metadata": {},
   "outputs": [],
   "source": [
    "# X Kernel\n",
    "\n",
    "Gx = [\n",
    "    [-1, 0, 1],\n",
    "    [-2, 0, 2],\n",
    "    [-1, 0, 1]\n",
    "]"
   ]
  },
  {
   "cell_type": "code",
   "execution_count": null,
   "metadata": {},
   "outputs": [],
   "source": [
    "# Y Kernel\n",
    "\n",
    "Gy = [\n",
    "    [-1, -2, -1],\n",
    "    [0, 0, 0],\n",
    "    [1, 2, 1]\n",
    "]"
   ]
  },
  {
   "cell_type": "code",
   "execution_count": null,
   "metadata": {},
   "outputs": [],
   "source": [
    "import math\n",
    "import matplotlib.pyplot as plt\n",
    "\n",
    "# Assuming gx and gy are gradient matrices and h, w are height and width of the image\n",
    "fl = []  # List to store final edge-detected image\n",
    "\n",
    "for i in range(0, height-1):\n",
    "    li = []  # Temporary list for storing row values\n",
    "    for j in range(0, width-1):\n",
    "        gxEdgeSum = 0\n",
    "        gyEdgeSum = 0 ## Creating 3 by 3 metric from Gray scale image\n",
    "        matrix = [[grayscale_image[i - 1][j - 1], grayscale_image[i - 1][j], grayscale_image[i - 1][j + 1]],\n",
    "                  [grayscale_image[i][j - 1], grayscale_image[i][j], grayscale_image[i][j + 1]],\n",
    "                  [grayscale_image[i + 1][j - 1], grayscale_image[i + 1][j], grayscale_image[i + 1][j + 1]]]\n",
    "\n",
    "        for a in range(3):\n",
    "            for b in range(3):\n",
    "                gxEdgeSum += matrix[a][b] * Gx[a][b]\n",
    "                gyEdgeSum += matrix[a][b] * Gy[a][b]\n",
    "\n",
    "        value = math.sqrt(gxEdgeSum * gxEdgeSum + gyEdgeSum * gyEdgeSum)\n",
    "        if value > 255:\n",
    "            value = 255\n",
    "        li.append(value)\n",
    "    fl.append(li)"
   ]
  },
  {
   "cell_type": "code",
   "execution_count": null,
   "metadata": {},
   "outputs": [],
   "source": [
    "##Display Image\n",
    "gray_image_np = Image.fromarray(np.uint8(fl) , 'L')\n",
    "display(gray_image_np)"
   ]
  }
 ],
 "metadata": {
  "kernelspec": {
   "display_name": "Python 3",
   "language": "python",
   "name": "python3"
  },
  "language_info": {
   "codemirror_mode": {
    "name": "ipython",
    "version": 3
   },
   "file_extension": ".py",
   "mimetype": "text/x-python",
   "name": "python",
   "nbconvert_exporter": "python",
   "pygments_lexer": "ipython3",
   "version": "3.7.4"
  }
 },
 "nbformat": 4,
 "nbformat_minor": 2
}
